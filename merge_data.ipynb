{
 "cells": [
  {
   "cell_type": "code",
   "execution_count": 2,
   "metadata": {},
   "outputs": [],
   "source": [
    "import os\n",
    "import numpy as np\n",
    "from glob import glob"
   ]
  },
  {
   "cell_type": "code",
   "execution_count": 3,
   "metadata": {},
   "outputs": [],
   "source": [
    "path = \"tmp/prep/\"\n",
    "n = int(len(glob(f'{path}/*.npy')) / 2)\n",
    "labels, features = [], []\n",
    "for i in range(0, n):\n",
    "    feat_path = os.path.join(path, f'tr_feat_{i}.npy')\n",
    "    feat = np.load(feat_path)\n",
    "\n",
    "    label_path = os.path.join(path, f'tr_label_{i}.npy')\n",
    "    label = np.load(label_path)\n",
    "\n",
    "    labels.append(label)\n",
    "    features.append(feat)"
   ]
  },
  {
   "cell_type": "code",
   "execution_count": 4,
   "metadata": {},
   "outputs": [],
   "source": [
    "features = np.concatenate(features)\n",
    "labels = np.concatenate(labels)"
   ]
  },
  {
   "cell_type": "code",
   "execution_count": 5,
   "metadata": {},
   "outputs": [],
   "source": [
    "np.save(\"data/seq_data_elsa/tr_feat.npy\", features)\n",
    "np.save(\"data/seq_data_elsa/tr_label.npy\", labels)\n"
   ]
  }
 ],
 "metadata": {
  "kernelspec": {
   "display_name": "ps",
   "language": "python",
   "name": "python3"
  },
  "language_info": {
   "codemirror_mode": {
    "name": "ipython",
    "version": 3
   },
   "file_extension": ".py",
   "mimetype": "text/x-python",
   "name": "python",
   "nbconvert_exporter": "python",
   "pygments_lexer": "ipython3",
   "version": "3.8.17"
  },
  "orig_nbformat": 4
 },
 "nbformat": 4,
 "nbformat_minor": 2
}
