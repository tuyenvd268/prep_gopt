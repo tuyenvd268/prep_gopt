{
 "cells": [
  {
   "cell_type": "code",
   "execution_count": 19,
   "metadata": {},
   "outputs": [
    {
     "name": "stdout",
     "output_type": "stream",
     "text": [
      "/data/codes/prep_gopt\n"
     ]
    }
   ],
   "source": [
    "%cd /data/codes/prep_gopt/"
   ]
  },
  {
   "cell_type": "code",
   "execution_count": 20,
   "metadata": {},
   "outputs": [],
   "source": [
    "import pandas as pd\n",
    "import kaldi_io\n",
    "import os\n",
    "from glob import glob\n",
    "from tqdm import tqdm\n",
    "import json\n",
    "import numpy as np\n",
    "import torchaudio"
   ]
  },
  {
   "cell_type": "code",
   "execution_count": 21,
   "metadata": {},
   "outputs": [
    {
     "data": {
      "text/html": [
       "<div>\n",
       "<style scoped>\n",
       "    .dataframe tbody tr th:only-of-type {\n",
       "        vertical-align: middle;\n",
       "    }\n",
       "\n",
       "    .dataframe tbody tr th {\n",
       "        vertical-align: top;\n",
       "    }\n",
       "\n",
       "    .dataframe thead th {\n",
       "        text-align: right;\n",
       "    }\n",
       "</style>\n",
       "<table border=\"1\" class=\"dataframe\">\n",
       "  <thead>\n",
       "    <tr style=\"text-align: right;\">\n",
       "      <th></th>\n",
       "      <th>user_id</th>\n",
       "      <th>id</th>\n",
       "      <th>question_content</th>\n",
       "      <th>score</th>\n",
       "    </tr>\n",
       "  </thead>\n",
       "  <tbody>\n",
       "    <tr>\n",
       "      <th>0</th>\n",
       "      <td>52077.0</td>\n",
       "      <td>5580000</td>\n",
       "      <td>STATISTICS</td>\n",
       "      <td>{\"words\": [[\"STATISTICS\", \"S T AH0 T IH1 S T I...</td>\n",
       "    </tr>\n",
       "    <tr>\n",
       "      <th>1</th>\n",
       "      <td>88226.0</td>\n",
       "      <td>5580001</td>\n",
       "      <td>SEAT</td>\n",
       "      <td>{\"words\": [[\"SEAT\", \"S IY1 T\", 53]], \"phonemes...</td>\n",
       "    </tr>\n",
       "    <tr>\n",
       "      <th>2</th>\n",
       "      <td>199169.0</td>\n",
       "      <td>5580003</td>\n",
       "      <td>FOGGY</td>\n",
       "      <td>{\"words\": [[\"FOGGY\", \"F AA1 G IY0\", 80]], \"pho...</td>\n",
       "    </tr>\n",
       "    <tr>\n",
       "      <th>3</th>\n",
       "      <td>237799.0</td>\n",
       "      <td>5580004</td>\n",
       "      <td>SCHOOL</td>\n",
       "      <td>{\"words\": [[\"SCHOOL\", \"S K UW1 L\", 69]], \"phon...</td>\n",
       "    </tr>\n",
       "    <tr>\n",
       "      <th>4</th>\n",
       "      <td>88226.0</td>\n",
       "      <td>5580007</td>\n",
       "      <td>SEAT</td>\n",
       "      <td>{\"words\": [[\"SEAT\", \"S IY1 T\", 68]], \"phonemes...</td>\n",
       "    </tr>\n",
       "  </tbody>\n",
       "</table>\n",
       "</div>"
      ],
      "text/plain": [
       "    user_id       id question_content  \\\n",
       "0   52077.0  5580000       STATISTICS   \n",
       "1   88226.0  5580001             SEAT   \n",
       "2  199169.0  5580003            FOGGY   \n",
       "3  237799.0  5580004           SCHOOL   \n",
       "4   88226.0  5580007             SEAT   \n",
       "\n",
       "                                               score  \n",
       "0  {\"words\": [[\"STATISTICS\", \"S T AH0 T IH1 S T I...  \n",
       "1  {\"words\": [[\"SEAT\", \"S IY1 T\", 53]], \"phonemes...  \n",
       "2  {\"words\": [[\"FOGGY\", \"F AA1 G IY0\", 80]], \"pho...  \n",
       "3  {\"words\": [[\"SCHOOL\", \"S K UW1 L\", 69]], \"phon...  \n",
       "4  {\"words\": [[\"SEAT\", \"S IY1 T\", 68]], \"phonemes...  "
      ]
     },
     "execution_count": 21,
     "metadata": {},
     "output_type": "execute_result"
    }
   ],
   "source": [
    "path = \"data/processed_data/metadata.csv\"\n",
    "metadata = pd.read_csv(path, index_col=0)\n",
    "metadata.head()"
   ]
  },
  {
   "cell_type": "code",
   "execution_count": 22,
   "metadata": {},
   "outputs": [],
   "source": [
    "def preprocess_word(words):\n",
    "    processed_words = []\n",
    "    for word in words:\n",
    "        if len(word[1].split()) == 1:\n",
    "            processed_words.append(word)\n",
    "        else:\n",
    "            for phn in word[1].split(\" \"):\n",
    "                processed_words.append([word[0], phn, word[2]])\n",
    "    return processed_words"
   ]
  },
  {
   "cell_type": "code",
   "execution_count": 23,
   "metadata": {},
   "outputs": [
    {
     "data": {
      "text/plain": [
       "0        None\n",
       "1        None\n",
       "2        None\n",
       "3        None\n",
       "4        None\n",
       "         ... \n",
       "55095    None\n",
       "55096    None\n",
       "55097    None\n",
       "55098    None\n",
       "55099    None\n",
       "Length: 50000, dtype: object"
      ]
     },
     "execution_count": 23,
     "metadata": {},
     "output_type": "execute_result"
    }
   ],
   "source": [
    "word2score, phone2score, utt2score = {}, {}, {}\n",
    "phone2wordid = {}\n",
    "\n",
    "def extract_score(utt_id, score):\n",
    "    score = json.loads(score)\n",
    "    words = score[\"words\"]\n",
    "    phonemes = score[\"phonemes\"]\n",
    "\n",
    "    assert len(words) == len(phonemes)\n",
    "    assert utt_id not in utt2score\n",
    "    utt2score[str(utt_id)] = score[\"utterance\"]\n",
    "    index = 0\n",
    "    \n",
    "    for wrd_id, (word, phoneme) in enumerate(zip(words, phonemes)):\n",
    "        phoneme = preprocess_word(phoneme)\n",
    "        assert len(word[1].split()) == len(phoneme)\n",
    "        for _, (x, y ) in enumerate(zip(word[1].split(), phoneme)):\n",
    "            key = f'{utt_id}.{index}'\n",
    "            \n",
    "            assert key not in word2score\n",
    "            assert key not in phone2score\n",
    "            \n",
    "            word2score[key] = word[-1]\n",
    "            phone2score[key] = y[-1]\n",
    "            phone2wordid[key] = wrd_id\n",
    "            \n",
    "            index+=1\n",
    "              \n",
    "metadata.apply(lambda x: extract_score(x[\"id\"], x[\"score\"]), axis=1)"
   ]
  },
  {
   "cell_type": "code",
   "execution_count": 24,
   "metadata": {},
   "outputs": [],
   "source": [
    "def load_phone_symbol_table(filename):\n",
    "    if not os.path.isfile(filename):\n",
    "        return None, None\n",
    "    int2sym = {}\n",
    "    sym2int = {}\n",
    "    with open(filename, 'r') as f:\n",
    "        for line in f:\n",
    "            sym, idx = line.strip('\\n').split('\\t')\n",
    "            idx = int(idx)\n",
    "            int2sym[idx] = sym\n",
    "            sym2int[sym] = idx\n",
    "    return sym2int, int2sym\n",
    "\n",
    "path = \"egs/gop_speechocean762/s5/data/lang_nosp/phones-pure.txt\"\n",
    "_, phone_int2sym = load_phone_symbol_table(path)"
   ]
  },
  {
   "cell_type": "code",
   "execution_count": 29,
   "metadata": {},
   "outputs": [
    {
     "name": "stdout",
     "output_type": "stream",
     "text": [
      "/data/codes/prep_gopt/egs/gop_speechocean762/s5\n"
     ]
    },
    {
     "name": "stderr",
     "output_type": "stream",
     "text": [
      "0it [00:00, ?it/s]"
     ]
    },
    {
     "name": "stderr",
     "output_type": "stream",
     "text": [
      "5816it [00:00, 112730.41it/s]\n"
     ]
    }
   ],
   "source": [
    "%cd /data/codes/prep_gopt/egs/gop_speechocean762/s5\n",
    "path = \"/data/codes/prep_gopt/egs/gop_speechocean762/s5/exp/gop_test/feat.scp\"\n",
    "keys, features, labels = [], [], []\n",
    "for phn_id, feature in tqdm(kaldi_io.read_vec_flt_scp(path)):\n",
    "    phn_id = str(phn_id)\n",
    "    uut_id = phn_id.split(\".\")[0]\n",
    "    \n",
    "    features.append(feature)\n",
    "    keys.append(phn_id)\n",
    "    \n",
    "    phoneme = phone_int2sym[feature[0]]\n",
    "    labels.append(\n",
    "        [\n",
    "            phoneme, \n",
    "            phone2score[phn_id],\n",
    "            word2score[phn_id],\n",
    "            phone2wordid[phn_id],\n",
    "            utt2score[uut_id],\n",
    "            ]\n",
    "    )"
   ]
  },
  {
   "cell_type": "code",
   "execution_count": 30,
   "metadata": {},
   "outputs": [],
   "source": [
    "if os.path.exists('gopt_feats') == False:\n",
    "    os.mkdir('gopt_feats')\n",
    "\n",
    "np.savetxt('gopt_feats/te_feats.csv', features, delimiter=',')\n",
    "np.savetxt('gopt_feats/te_keys.csv', keys, delimiter=',', fmt='%s')\n",
    "np.savetxt('gopt_feats/te_labels.csv', labels, delimiter=',', fmt='%s')\n"
   ]
  },
  {
   "cell_type": "code",
   "execution_count": null,
   "metadata": {},
   "outputs": [],
   "source": []
  }
 ],
 "metadata": {
  "kernelspec": {
   "display_name": "ps",
   "language": "python",
   "name": "python3"
  },
  "language_info": {
   "codemirror_mode": {
    "name": "ipython",
    "version": 3
   },
   "file_extension": ".py",
   "mimetype": "text/x-python",
   "name": "python",
   "nbconvert_exporter": "python",
   "pygments_lexer": "ipython3",
   "version": "3.8.17"
  },
  "orig_nbformat": 4
 },
 "nbformat": 4,
 "nbformat_minor": 2
}
