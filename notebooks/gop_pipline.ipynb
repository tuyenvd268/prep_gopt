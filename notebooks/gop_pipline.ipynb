{
 "cells": [
  {
   "cell_type": "code",
   "execution_count": 1,
   "metadata": {},
   "outputs": [
    {
     "name": "stdout",
     "output_type": "stream",
     "text": [
      "INFO: Pandarallel will run on 10 workers.\n",
      "INFO: Pandarallel will use standard multiprocessing data transfer (pipe) to transfer data between the main process and workers.\n"
     ]
    }
   ],
   "source": [
    "import pandas as pd\n",
    "import os\n",
    "import uuid\n",
    "import json\n",
    "from sklearn.model_selection import train_test_split\n",
    "from pandarallel import pandarallel\n",
    "import time\n",
    "import shutil\n",
    "\n",
    "pandarallel.initialize(nb_workers=10, progress_bar=True, use_memory_fs=False)"
   ]
  },
  {
   "cell_type": "code",
   "execution_count": 2,
   "metadata": {},
   "outputs": [
    {
     "data": {
      "text/html": [
       "<div>\n",
       "<style scoped>\n",
       "    .dataframe tbody tr th:only-of-type {\n",
       "        vertical-align: middle;\n",
       "    }\n",
       "\n",
       "    .dataframe tbody tr th {\n",
       "        vertical-align: top;\n",
       "    }\n",
       "\n",
       "    .dataframe thead th {\n",
       "        text-align: right;\n",
       "    }\n",
       "</style>\n",
       "<table border=\"1\" class=\"dataframe\">\n",
       "  <thead>\n",
       "    <tr style=\"text-align: right;\">\n",
       "      <th></th>\n",
       "      <th>user_id</th>\n",
       "      <th>id</th>\n",
       "      <th>question_content</th>\n",
       "      <th>score</th>\n",
       "    </tr>\n",
       "  </thead>\n",
       "  <tbody>\n",
       "    <tr>\n",
       "      <th>0</th>\n",
       "      <td>52077.0</td>\n",
       "      <td>5580000</td>\n",
       "      <td>STATISTICS</td>\n",
       "      <td>{\"words\": [[\"STATISTICS\", \"S T AH0 T IH1 S T I...</td>\n",
       "    </tr>\n",
       "    <tr>\n",
       "      <th>1</th>\n",
       "      <td>88226.0</td>\n",
       "      <td>5580001</td>\n",
       "      <td>SEAT</td>\n",
       "      <td>{\"words\": [[\"SEAT\", \"S IY1 T\", 53]], \"phonemes...</td>\n",
       "    </tr>\n",
       "    <tr>\n",
       "      <th>2</th>\n",
       "      <td>199169.0</td>\n",
       "      <td>5580003</td>\n",
       "      <td>FOGGY</td>\n",
       "      <td>{\"words\": [[\"FOGGY\", \"F AA1 G IY0\", 80]], \"pho...</td>\n",
       "    </tr>\n",
       "    <tr>\n",
       "      <th>3</th>\n",
       "      <td>237799.0</td>\n",
       "      <td>5580004</td>\n",
       "      <td>SCHOOL</td>\n",
       "      <td>{\"words\": [[\"SCHOOL\", \"S K UW1 L\", 69]], \"phon...</td>\n",
       "    </tr>\n",
       "    <tr>\n",
       "      <th>4</th>\n",
       "      <td>88226.0</td>\n",
       "      <td>5580007</td>\n",
       "      <td>SEAT</td>\n",
       "      <td>{\"words\": [[\"SEAT\", \"S IY1 T\", 68]], \"phonemes...</td>\n",
       "    </tr>\n",
       "  </tbody>\n",
       "</table>\n",
       "</div>"
      ],
      "text/plain": [
       "    user_id       id question_content  \\\n",
       "0   52077.0  5580000       STATISTICS   \n",
       "1   88226.0  5580001             SEAT   \n",
       "2  199169.0  5580003            FOGGY   \n",
       "3  237799.0  5580004           SCHOOL   \n",
       "4   88226.0  5580007             SEAT   \n",
       "\n",
       "                                               score  \n",
       "0  {\"words\": [[\"STATISTICS\", \"S T AH0 T IH1 S T I...  \n",
       "1  {\"words\": [[\"SEAT\", \"S IY1 T\", 53]], \"phonemes...  \n",
       "2  {\"words\": [[\"FOGGY\", \"F AA1 G IY0\", 80]], \"pho...  \n",
       "3  {\"words\": [[\"SCHOOL\", \"S K UW1 L\", 69]], \"phon...  \n",
       "4  {\"words\": [[\"SEAT\", \"S IY1 T\", 68]], \"phonemes...  "
      ]
     },
     "execution_count": 2,
     "metadata": {},
     "output_type": "execute_result"
    }
   ],
   "source": [
    "path = \"data/processed_data/metadata.csv\"\n",
    "metadata = pd.read_csv(path, index_col=0)\n",
    "metadata.head()"
   ]
  },
  {
   "cell_type": "code",
   "execution_count": 3,
   "metadata": {},
   "outputs": [],
   "source": [
    "def create_wav_scp(f, wav_id, wav_path):\n",
    "    line = f'{wav_id}\\t{wav_path}'\n",
    "    \n",
    "    f.write(line + \"\\n\")\n",
    "    \n",
    "def create_text(f, utt_id, text):\n",
    "    line = f'{utt_id}\\t{text.upper()}'\n",
    "    \n",
    "    f.write(line+\"\\n\")\n",
    "    \n",
    "def create_utt2spk(f, utt_id, spk):\n",
    "    line = f'{utt_id}\\t{spk}'\n",
    "    \n",
    "    f.write(line+\"\\n\")\n",
    "    \n",
    "def create_spk2utt(f, spk, utt_id):\n",
    "    line = f'{spk}\\t{utt_id}'\n",
    "    \n",
    "    f.write(line+\"\\n\")\n",
    "    \n",
    "def gen_spk_id(*args):\n",
    "    return uuid.uuid1()\n",
    "\n",
    "def create_text_phoneme(f, utt_id, words):\n",
    "    words = json.loads(words)[\"words\"]\n",
    "    for index, word in enumerate(words):\n",
    "        phonemes = word[1].split()\n",
    "        if len(phonemes) == 1:\n",
    "            phonemes[0] = phonemes[0] + \"_S\"\n",
    "            \n",
    "        if len(phonemes) >= 2:\n",
    "            phonemes[0] = phonemes[0] + \"_B\"\n",
    "            phonemes[-1] = phonemes[-1] + \"_E\"\n",
    "            \n",
    "        if len(phonemes) > 2:\n",
    "            for i in range(1, len(phonemes)-1):\n",
    "                phonemes[i] = phonemes[i] + \"_I\"\n",
    "            \n",
    "        line = f'{utt_id}.{index}\\t{\" \".join(phonemes)}'\n",
    "        f.write(line + \"\\n\")\n",
    "        \n",
    "def check_downloaded(path):\n",
    "    if os.path.exists(path):\n",
    "        return False\n",
    "    return True"
   ]
  },
  {
   "cell_type": "code",
   "execution_count": 4,
   "metadata": {},
   "outputs": [],
   "source": [
    "def extract_score(score):\n",
    "    score = json.loads(score)\n",
    "    word_scores = []\n",
    "    for word in score[\"words\"]:\n",
    "        word_scores.append(word[2])\n",
    "    \n",
    "    return word_scores\n",
    "\n",
    "metadata[\"word_score\"] = metadata.score.apply(extract_score)"
   ]
  },
  {
   "cell_type": "code",
   "execution_count": 5,
   "metadata": {},
   "outputs": [
    {
     "data": {
      "application/vnd.jupyter.widget-view+json": {
       "model_id": "f8387a8a38194081ba4d2da4aa6605ab",
       "version_major": 2,
       "version_minor": 0
      },
      "text/plain": [
       "VBox(children=(HBox(children=(IntProgress(value=0, description='0.00%', max=95758), Label(value='0 / 95758')))…"
      ]
     },
     "metadata": {},
     "output_type": "display_data"
    },
    {
     "data": {
      "application/vnd.jupyter.widget-view+json": {
       "model_id": "0cd9003f89cc4de59c489588753dd371",
       "version_major": 2,
       "version_minor": 0
      },
      "text/plain": [
       "VBox(children=(HBox(children=(IntProgress(value=0, description='0.00%', max=95758), Label(value='0 / 95758')))…"
      ]
     },
     "metadata": {},
     "output_type": "display_data"
    },
    {
     "data": {
      "text/html": [
       "<div>\n",
       "<style scoped>\n",
       "    .dataframe tbody tr th:only-of-type {\n",
       "        vertical-align: middle;\n",
       "    }\n",
       "\n",
       "    .dataframe tbody tr th {\n",
       "        vertical-align: top;\n",
       "    }\n",
       "\n",
       "    .dataframe thead th {\n",
       "        text-align: right;\n",
       "    }\n",
       "</style>\n",
       "<table border=\"1\" class=\"dataframe\">\n",
       "  <thead>\n",
       "    <tr style=\"text-align: right;\">\n",
       "      <th></th>\n",
       "      <th>user_id</th>\n",
       "      <th>id</th>\n",
       "      <th>question_content</th>\n",
       "      <th>score</th>\n",
       "      <th>word_score</th>\n",
       "      <th>wav_path</th>\n",
       "      <th>text</th>\n",
       "      <th>spk_id</th>\n",
       "    </tr>\n",
       "  </thead>\n",
       "  <tbody>\n",
       "    <tr>\n",
       "      <th>0</th>\n",
       "      <td>52077.0</td>\n",
       "      <td>5580000</td>\n",
       "      <td>STATISTICS</td>\n",
       "      <td>{\"words\": [[\"STATISTICS\", \"S T AH0 T IH1 S T I...</td>\n",
       "      <td>[90]</td>\n",
       "      <td>/working/data/processed_data/wavs/5580000.wav</td>\n",
       "      <td>STATISTICS</td>\n",
       "      <td>5580000</td>\n",
       "    </tr>\n",
       "    <tr>\n",
       "      <th>1</th>\n",
       "      <td>88226.0</td>\n",
       "      <td>5580001</td>\n",
       "      <td>SEAT</td>\n",
       "      <td>{\"words\": [[\"SEAT\", \"S IY1 T\", 53]], \"phonemes...</td>\n",
       "      <td>[53]</td>\n",
       "      <td>/working/data/processed_data/wavs/5580001.wav</td>\n",
       "      <td>SEAT</td>\n",
       "      <td>5580001</td>\n",
       "    </tr>\n",
       "    <tr>\n",
       "      <th>2</th>\n",
       "      <td>199169.0</td>\n",
       "      <td>5580003</td>\n",
       "      <td>FOGGY</td>\n",
       "      <td>{\"words\": [[\"FOGGY\", \"F AA1 G IY0\", 80]], \"pho...</td>\n",
       "      <td>[80]</td>\n",
       "      <td>/working/data/processed_data/wavs/5580003.wav</td>\n",
       "      <td>FOGGY</td>\n",
       "      <td>5580003</td>\n",
       "    </tr>\n",
       "    <tr>\n",
       "      <th>3</th>\n",
       "      <td>237799.0</td>\n",
       "      <td>5580004</td>\n",
       "      <td>SCHOOL</td>\n",
       "      <td>{\"words\": [[\"SCHOOL\", \"S K UW1 L\", 69]], \"phon...</td>\n",
       "      <td>[69]</td>\n",
       "      <td>/working/data/processed_data/wavs/5580004.wav</td>\n",
       "      <td>SCHOOL</td>\n",
       "      <td>5580004</td>\n",
       "    </tr>\n",
       "    <tr>\n",
       "      <th>4</th>\n",
       "      <td>88226.0</td>\n",
       "      <td>5580007</td>\n",
       "      <td>SEAT</td>\n",
       "      <td>{\"words\": [[\"SEAT\", \"S IY1 T\", 68]], \"phonemes...</td>\n",
       "      <td>[68]</td>\n",
       "      <td>/working/data/processed_data/wavs/5580007.wav</td>\n",
       "      <td>SEAT</td>\n",
       "      <td>5580007</td>\n",
       "    </tr>\n",
       "  </tbody>\n",
       "</table>\n",
       "</div>"
      ],
      "text/plain": [
       "    user_id       id question_content  \\\n",
       "0   52077.0  5580000       STATISTICS   \n",
       "1   88226.0  5580001             SEAT   \n",
       "2  199169.0  5580003            FOGGY   \n",
       "3  237799.0  5580004           SCHOOL   \n",
       "4   88226.0  5580007             SEAT   \n",
       "\n",
       "                                               score word_score  \\\n",
       "0  {\"words\": [[\"STATISTICS\", \"S T AH0 T IH1 S T I...       [90]   \n",
       "1  {\"words\": [[\"SEAT\", \"S IY1 T\", 53]], \"phonemes...       [53]   \n",
       "2  {\"words\": [[\"FOGGY\", \"F AA1 G IY0\", 80]], \"pho...       [80]   \n",
       "3  {\"words\": [[\"SCHOOL\", \"S K UW1 L\", 69]], \"phon...       [69]   \n",
       "4  {\"words\": [[\"SEAT\", \"S IY1 T\", 68]], \"phonemes...       [68]   \n",
       "\n",
       "                                        wav_path        text   spk_id  \n",
       "0  /working/data/processed_data/wavs/5580000.wav  STATISTICS  5580000  \n",
       "1  /working/data/processed_data/wavs/5580001.wav        SEAT  5580001  \n",
       "2  /working/data/processed_data/wavs/5580003.wav       FOGGY  5580003  \n",
       "3  /working/data/processed_data/wavs/5580004.wav      SCHOOL  5580004  \n",
       "4  /working/data/processed_data/wavs/5580007.wav        SEAT  5580007  "
      ]
     },
     "execution_count": 5,
     "metadata": {},
     "output_type": "execute_result"
    }
   ],
   "source": [
    "wav_dir = \"/working/data/processed_data/wavs\"\n",
    "metadata[\"wav_path\"] = metadata.id.parallel_apply(lambda x: os.path.join(wav_dir, f'{x}.wav'))\n",
    "metadata[\"text\"] = metadata[\"question_content\"]\n",
    "metadata[\"spk_id\"] = metadata.id.parallel_apply(lambda x: x)\n",
    "metadata.head()"
   ]
  },
  {
   "cell_type": "code",
   "execution_count": 6,
   "metadata": {},
   "outputs": [],
   "source": [
    "text_phoneme_path = 'data/processed_data/text-phone'\n",
    "\n",
    "with open(text_phoneme_path, \"w\", encoding=\"utf-8\") as f:\n",
    "    metadata.apply(lambda x: create_text_phoneme(f, x[\"id\"], x[\"score\"]), axis=1)"
   ]
  },
  {
   "cell_type": "code",
   "execution_count": 7,
   "metadata": {},
   "outputs": [],
   "source": [
    "def convert_to_kaldi_format(metadata, data_dir):\n",
    "    wavscp_path = f'{data_dir}/wav.scp'\n",
    "    text_path = f'{data_dir}/text'\n",
    "    spk2utt_path = f'{data_dir}/spk2utt'\n",
    "    utt2spk_path = f'{data_dir}/utt2spk'\n",
    "\n",
    "    with open(wavscp_path, \"w\", encoding=\"utf-8\") as f:\n",
    "        metadata.sort_values(\"id\").apply(lambda x: create_wav_scp(f, x[\"id\"], x[\"wav_path\"]), axis=1)\n",
    "        \n",
    "    with open(text_path, \"w\", encoding=\"utf-8\") as f:\n",
    "        metadata.apply(lambda x: create_text(f, x[\"id\"], x[\"text\"]), axis=1)\n",
    "        \n",
    "    with open(spk2utt_path, \"w\", encoding=\"utf-8\") as f:\n",
    "        metadata.sort_values(\"spk_id\").apply(lambda x: create_spk2utt(f, x[\"spk_id\"], x[\"id\"]), axis=1)\n",
    "        \n",
    "    with open(utt2spk_path, \"w\", encoding=\"utf-8\") as f:\n",
    "        metadata.sort_values(\"id\").apply(lambda x: create_utt2spk(f, x[\"id\"], x[\"spk_id\"]), axis=1)\n",
    "        \n",
    "    print(\"saved metadata to: \", data_dir)"
   ]
  },
  {
   "cell_type": "code",
   "execution_count": 8,
   "metadata": {},
   "outputs": [],
   "source": [
    "import time"
   ]
  },
  {
   "cell_type": "code",
   "execution_count": 9,
   "metadata": {},
   "outputs": [
    {
     "name": "stdout",
     "output_type": "stream",
     "text": [
      "saved metadata to:  /data/codes/prep_gopt/data/processed_data/train\n",
      "saved metadata to:  /data/codes/prep_gopt/data/processed_data/train\n",
      "saved metadata to:  /data/codes/prep_gopt/data/processed_data/train\n"
     ]
    },
    {
     "ename": "KeyboardInterrupt",
     "evalue": "",
     "output_type": "error",
     "traceback": [
      "\u001b[0;31m---------------------------------------------------------------------------\u001b[0m",
      "\u001b[0;31mKeyboardInterrupt\u001b[0m                         Traceback (most recent call last)",
      "\u001b[1;32m/data/codes/prep_gopt/gop_pipline.ipynb Cell 9\u001b[0m line \u001b[0;36m6\n\u001b[1;32m      <a href='vscode-notebook-cell://ssh-remote%2B14.162.145.55/data/codes/prep_gopt/gop_pipline.ipynb#X11sdnNjb2RlLXJlbW90ZQ%3D%3D?line=3'>4</a>\u001b[0m data_dir \u001b[39m=\u001b[39m \u001b[39m\"\u001b[39m\u001b[39m/data/codes/prep_gopt/data/processed_data/train\u001b[39m\u001b[39m\"\u001b[39m\n\u001b[1;32m      <a href='vscode-notebook-cell://ssh-remote%2B14.162.145.55/data/codes/prep_gopt/gop_pipline.ipynb#X11sdnNjb2RlLXJlbW90ZQ%3D%3D?line=4'>5</a>\u001b[0m convert_to_kaldi_format(metadata\u001b[39m=\u001b[39mmetadata[i\u001b[39m*\u001b[39mstep: (i\u001b[39m+\u001b[39m\u001b[39m1\u001b[39m)\u001b[39m*\u001b[39mstep], data_dir\u001b[39m=\u001b[39mdata_dir)\n\u001b[0;32m----> <a href='vscode-notebook-cell://ssh-remote%2B14.162.145.55/data/codes/prep_gopt/gop_pipline.ipynb#X11sdnNjb2RlLXJlbW90ZQ%3D%3D?line=5'>6</a>\u001b[0m time\u001b[39m.\u001b[39;49msleep(\u001b[39m10\u001b[39;49m)\n",
      "\u001b[0;31mKeyboardInterrupt\u001b[0m: "
     ]
    }
   ],
   "source": [
    "n = 100\n",
    "step = int(metadata.shape[0]/n)\n",
    "for i in range(0, n):\n",
    "    data_dir = \"/data/codes/prep_gopt/data/processed_data/train\"\n",
    "    convert_to_kaldi_format(metadata=metadata[i*step: (i+1)*step], data_dir=data_dir)\n",
    "    time.sleep(10)"
   ]
  }
 ],
 "metadata": {
  "kernelspec": {
   "display_name": "ps",
   "language": "python",
   "name": "python3"
  },
  "language_info": {
   "codemirror_mode": {
    "name": "ipython",
    "version": 3
   },
   "file_extension": ".py",
   "mimetype": "text/x-python",
   "name": "python",
   "nbconvert_exporter": "python",
   "pygments_lexer": "ipython3",
   "version": "3.8.17"
  },
  "orig_nbformat": 4
 },
 "nbformat": 4,
 "nbformat_minor": 2
}
