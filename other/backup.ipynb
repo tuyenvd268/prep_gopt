{
 "cells": [
  {
   "cell_type": "code",
   "execution_count": 278,
   "metadata": {},
   "outputs": [],
   "source": [
    "import torch\n",
    "import sys\n",
    "import os\n",
    "from model import GOPT\n",
    "import numpy as np\n",
    "import json\n",
    "import pandas as pd \n",
    "import pickle"
   ]
  },
  {
   "cell_type": "code",
   "execution_count": 279,
   "metadata": {},
   "outputs": [],
   "source": [
    "device = \"cuda:0\"\n",
    "gopt = GOPT(embed_dim=24, num_heads=1, depth=3, input_dim=84)\n",
    "\n",
    "state_dict = torch.load('exp/models/best_audio_model.pth', map_location='cpu')\n",
    "gopt.load_state_dict(state_dict)\n",
    "gopt.eval()\n",
    "gopt = gopt.to(device)"
   ]
  },
  {
   "cell_type": "code",
   "execution_count": 280,
   "metadata": {},
   "outputs": [],
   "source": [
    "def load_scaler(path):\n",
    "    with open(path, \"rb\") as f:\n",
    "        scaler = pickle.load(f)\n",
    "\n",
    "    return scaler\n",
    "\n",
    "scaler = load_scaler(path=\"resources/scaler.pkl\")"
   ]
  },
  {
   "cell_type": "code",
   "execution_count": 281,
   "metadata": {},
   "outputs": [],
   "source": [
    "input_feat = np.load(\"data/seq_data_librispeech/if_feat.npy\")\n",
    "input_phn = np.load(\"data/seq_data_librispeech/if_label.npy\")\n",
    "\n",
    "normed_feat = scaler.transform(input_feat[0])\n",
    "input_feat = torch.from_numpy(normed_feat).unsqueeze(0)\n",
    "phoneme_length = np.sum(input_phn!=-1)"
   ]
  },
  {
   "cell_type": "code",
   "execution_count": 282,
   "metadata": {},
   "outputs": [],
   "source": [
    "with torch.no_grad():\n",
    "    t_input_feat = input_feat.to(device)\n",
    "    t_phn = torch.from_numpy(input_phn[:,:,0]).to(device)\n",
    "\n",
    "    utt_score, phn_score, wrd_score = gopt(t_input_feat.float(),t_phn.float())"
   ]
  },
  {
   "cell_type": "code",
   "execution_count": 283,
   "metadata": {},
   "outputs": [
    {
     "name": "stdout",
     "output_type": "stream",
     "text": [
      "torch.Size([7]) torch.Size([1]) torch.Size([7])\n"
     ]
    }
   ],
   "source": [
    "phn_score = phn_score.view(-1)[0: phoneme_length] * 50\n",
    "utt_score = utt_score.view(-1) * 50\n",
    "wrd_score = wrd_score.view(-1)[0:phoneme_length] * 50\n",
    "print(phn_score.shape, utt_score.shape, wrd_score.shape)"
   ]
  },
  {
   "cell_type": "code",
   "execution_count": 284,
   "metadata": {},
   "outputs": [],
   "source": [
    "def load_lexicon(path=\"librispeech-lexicon.txt\"):\n",
    "    with open(path, 'r') as f:\n",
    "        lexicon_raw = f.read()\n",
    "        rows = lexicon_raw.splitlines()\n",
    "    clean_rows = [row.split() for row in rows]\n",
    "    lexicon_dict_l = dict()\n",
    "    for row in clean_rows:\n",
    "        c_row = row.copy()\n",
    "        key = c_row.pop(0)\n",
    "        if len(c_row) == 1:\n",
    "            c_row[0] = c_row[0] + '_S'\n",
    "        if len(c_row) >= 2:\n",
    "            c_row[0] = c_row[0] + '_B'\n",
    "            c_row[-1] = c_row[-1] + '_E'\n",
    "        if len(c_row) > 2:\n",
    "            for i in range(1,len(c_row)-1):\n",
    "                c_row[i] = c_row[i] + '_I'\n",
    "        val = \" \".join(c_row)\n",
    "        lexicon_dict_l[key] = val\n",
    "    return lexicon_dict_l\n",
    "\n",
    "lexicon_path = \"resources/lexicon.txt\"\n",
    "lexicon_dict_l = load_lexicon(lexicon_path)\n",
    "\n",
    "with open(\"resources/phoneme_dict.json\", \"r\") as f:\n",
    "    phone2id = json.load(f)\n",
    "id2phone = {value:key for key, value in phone2id.items()}"
   ]
  },
  {
   "cell_type": "code",
   "execution_count": 285,
   "metadata": {},
   "outputs": [],
   "source": [
    "phn_id = t_phn.view(-1)\n",
    "phone_with_scores = -1 * np.ones((phoneme_length, 2))\n",
    "\n",
    "for i in range(phone_with_scores.shape[0]):\n",
    "    phone_with_scores[i, 0] = phn_id[i]\n",
    "    phone_with_scores[i, 1] = phn_score[i]"
   ]
  },
  {
   "cell_type": "code",
   "execution_count": 286,
   "metadata": {},
   "outputs": [
    {
     "name": "stdout",
     "output_type": "stream",
     "text": [
      "       word_id       phonemes\n",
      "0  000940032.0      IH1_B T_E\n",
      "1  000940032.1      T_B UW1_E\n",
      "2  000940032.2  W_B AH1_I N_E\n"
     ]
    },
    {
     "data": {
      "text/html": [
       "<div>\n",
       "<style scoped>\n",
       "    .dataframe tbody tr th:only-of-type {\n",
       "        vertical-align: middle;\n",
       "    }\n",
       "\n",
       "    .dataframe tbody tr th {\n",
       "        vertical-align: top;\n",
       "    }\n",
       "\n",
       "    .dataframe thead th {\n",
       "        text-align: right;\n",
       "    }\n",
       "</style>\n",
       "<table border=\"1\" class=\"dataframe\">\n",
       "  <thead>\n",
       "    <tr style=\"text-align: right;\">\n",
       "      <th></th>\n",
       "      <th>index</th>\n",
       "      <th>word_id</th>\n",
       "      <th>phonemes</th>\n",
       "    </tr>\n",
       "  </thead>\n",
       "  <tbody>\n",
       "    <tr>\n",
       "      <th>0</th>\n",
       "      <td>0</td>\n",
       "      <td>0</td>\n",
       "      <td>IH1</td>\n",
       "    </tr>\n",
       "    <tr>\n",
       "      <th>1</th>\n",
       "      <td>0</td>\n",
       "      <td>0</td>\n",
       "      <td>T</td>\n",
       "    </tr>\n",
       "    <tr>\n",
       "      <th>2</th>\n",
       "      <td>1</td>\n",
       "      <td>1</td>\n",
       "      <td>T</td>\n",
       "    </tr>\n",
       "    <tr>\n",
       "      <th>3</th>\n",
       "      <td>1</td>\n",
       "      <td>1</td>\n",
       "      <td>UW1</td>\n",
       "    </tr>\n",
       "    <tr>\n",
       "      <th>4</th>\n",
       "      <td>2</td>\n",
       "      <td>2</td>\n",
       "      <td>W</td>\n",
       "    </tr>\n",
       "  </tbody>\n",
       "</table>\n",
       "</div>"
      ],
      "text/plain": [
       "   index word_id phonemes\n",
       "0      0       0      IH1\n",
       "1      0       0        T\n",
       "2      1       1        T\n",
       "3      1       1      UW1\n",
       "4      2       2        W"
      ]
     },
     "execution_count": 286,
     "metadata": {},
     "output_type": "execute_result"
    }
   ],
   "source": [
    "text = \"IT TWO ONE\"\n",
    "words = text.split(' ')\n",
    "path = \"egs/gop_speechocean762/s5/data/local/text-phone\"\n",
    "\n",
    "phone_df = pd.read_csv(path, sep=\"\\t\", names=[\"word_id\", \"phonemes\"], dtype={\"word_id\":str})\n",
    "print(phone_df.head())\n",
    "phone_df.word_id = phone_df.word_id.apply(lambda x: x.split(\".\")[-1])\n",
    "phone_df.phonemes = phone_df.phonemes.apply(lambda x: x.split(\" \"))\n",
    "phone_df = phone_df.explode(column=\"phonemes\").reset_index()\n",
    "phone_df.phonemes = phone_df.phonemes.apply(lambda x: x.split(\"_\")[0])\n",
    "phone_df.head()"
   ]
  },
  {
   "cell_type": "code",
   "execution_count": 287,
   "metadata": {},
   "outputs": [],
   "source": [
    "word_ids = torch.tensor([int(i) for i in phone_df[\"word_id\"].to_list()])"
   ]
  },
  {
   "cell_type": "code",
   "execution_count": 288,
   "metadata": {},
   "outputs": [],
   "source": [
    "import torch.nn.functional as F\n",
    "\n",
    "one_hot = F.one_hot(word_ids, num_classes=word_ids.max().item()+1).float()\n",
    "one_hot = one_hot / one_hot.sum(0, keepdim=True)\n",
    "word_scores = torch.matmul(one_hot.transpose(0, 1), phn_score.cpu())"
   ]
  },
  {
   "cell_type": "code",
   "execution_count": 289,
   "metadata": {},
   "outputs": [
    {
     "data": {
      "text/plain": [
       "'\\nsample = {\\n    \"version\": None,\\n    \"utterance\":\\n        {\\n            \"text\": \"...\",\\n            \"score\": ...\\n            \"words\": [\\n                {\\n                    \"text\": \"...\",\\n                    \"score\": ...\\n                    \"phonemes\":[\\n                        {\\n                            \"text\": \"...\",\\n                            \"score\": ...\\n                        },\\n                        {\\n                            \"text\": \"...\",\\n                            \"score\": ...\\n                        },\\n                    ]\\n                }\\n\\n                {\\n                    \"text\": \"...\",\\n                    \"score\": ...\\n                    \"phonemes\":[\\n                        {\\n                            \"text\": \"...\",\\n                            \"score\": ...\\n                        },\\n                        {\\n                            \"text\": \"...\",\\n                            \"score\": ...\\n                        },\\n                    ]\\n                }\\n            ]\\n        }\\n}\\n'"
      ]
     },
     "execution_count": 289,
     "metadata": {},
     "output_type": "execute_result"
    }
   ],
   "source": [
    "\"\"\"\n",
    "sample = {\n",
    "    \"version\": None,\n",
    "    \"utterance\":\n",
    "        {\n",
    "            \"text\": \"...\",\n",
    "            \"score\": ...\n",
    "            \"words\": [\n",
    "                {\n",
    "                    \"text\": \"...\",\n",
    "                    \"score\": ...\n",
    "                    \"phonemes\":[\n",
    "                        {\n",
    "                            \"text\": \"...\",\n",
    "                            \"score\": ...\n",
    "                        },\n",
    "                        {\n",
    "                            \"text\": \"...\",\n",
    "                            \"score\": ...\n",
    "                        },\n",
    "                    ]\n",
    "                }\n",
    "\n",
    "                {\n",
    "                    \"text\": \"...\",\n",
    "                    \"score\": ...\n",
    "                    \"phonemes\":[\n",
    "                        {\n",
    "                            \"text\": \"...\",\n",
    "                            \"score\": ...\n",
    "                        },\n",
    "                        {\n",
    "                            \"text\": \"...\",\n",
    "                            \"score\": ...\n",
    "                        },\n",
    "                    ]\n",
    "                }\n",
    "            ]\n",
    "        }\n",
    "}\n",
    "\"\"\""
   ]
  },
  {
   "cell_type": "code",
   "execution_count": 290,
   "metadata": {},
   "outputs": [],
   "source": [
    "curr_word_id, prev_word_id = -1, -1\n",
    "_tmp_word = {\n",
    "        \"text\": words[0],\n",
    "        \"score\": word_scores[0].item(),\n",
    "        \"phonemes\": []\n",
    "    }\n",
    "\n",
    "scores = {\n",
    "    \"version\": \"None\",\n",
    "    \"utterance\": {\n",
    "        \"text\": text,\n",
    "        \"score\": utt_score.item(),\n",
    "        \"words\": []\n",
    "    }\n",
    "}\n",
    "for index in range(len(phone_with_scores)):\n",
    "    word_id = int(phone_df[\"word_id\"][index])\n",
    "\n",
    "    _tmp_phone = {\n",
    "        \"text\": id2phone[int(phone_with_scores[index][0])],\n",
    "        \"score\": phone_with_scores[index][1].item(),\n",
    "    }\n",
    "\n",
    "    if word_id == curr_word_id:\n",
    "        scores[\"utterance\"][\"words\"][word_id][\"phonemes\"].append(\n",
    "            _tmp_phone\n",
    "        )\n",
    "    else:\n",
    "        _tmp_word = {\n",
    "            \"text\": words[word_id],\n",
    "            \"score\": word_scores[word_id].item(),\n",
    "            \"phonemes\": []\n",
    "        }\n",
    "\n",
    "        _tmp_word[\"phonemes\"].append(_tmp_phone)\n",
    "        if len(scores[\"utterance\"][\"words\"]) == word_id:\n",
    "            scores[\"utterance\"][\"words\"].append(_tmp_word)\n",
    "        else:\n",
    "            scores[\"utterance\"][\"words\"][word_id][\"phonemes\"].append(\n",
    "                _tmp_phone\n",
    "            )"
   ]
  },
  {
   "cell_type": "code",
   "execution_count": 291,
   "metadata": {},
   "outputs": [
    {
     "data": {
      "text/plain": [
       "{'version': 'None',\n",
       " 'utterance': {'text': 'IT TWO ONE',\n",
       "  'score': 69.40826416015625,\n",
       "  'words': [{'text': 'IT',\n",
       "    'score': 48.026214599609375,\n",
       "    'phonemes': [{'text': 'IH', 'score': 10.327770233154297},\n",
       "     {'text': 'T', 'score': 85.72466278076172}]},\n",
       "   {'text': 'TWO',\n",
       "    'score': 94.78627014160156,\n",
       "    'phonemes': [{'text': 'T', 'score': 99.65254211425781},\n",
       "     {'text': 'UW', 'score': 89.92000579833984}]},\n",
       "   {'text': 'ONE',\n",
       "    'score': 81.3423080444336,\n",
       "    'phonemes': [{'text': 'W', 'score': 90.68363952636719},\n",
       "     {'text': 'AH', 'score': 70.45494842529297},\n",
       "     {'text': 'N', 'score': 82.88832092285156}]}]}}"
      ]
     },
     "execution_count": 291,
     "metadata": {},
     "output_type": "execute_result"
    }
   ],
   "source": [
    "scores"
   ]
  },
  {
   "cell_type": "code",
   "execution_count": 292,
   "metadata": {},
   "outputs": [],
   "source": [
    "with open(\"result.json\", \"w\", encoding=\"utf-8\") as f:\n",
    "    json_obj = json.dumps(scores, indent=4, ensure_ascii=False)\n",
    "    f.write(json_obj)"
   ]
  }
 ],
 "metadata": {
  "kernelspec": {
   "display_name": "ps",
   "language": "python",
   "name": "python3"
  },
  "language_info": {
   "codemirror_mode": {
    "name": "ipython",
    "version": 3
   },
   "file_extension": ".py",
   "mimetype": "text/x-python",
   "name": "python",
   "nbconvert_exporter": "python",
   "pygments_lexer": "ipython3",
   "version": "3.8.17"
  },
  "orig_nbformat": 4
 },
 "nbformat": 4,
 "nbformat_minor": 2
}
