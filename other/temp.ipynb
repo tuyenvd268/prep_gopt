{
 "cells": [
  {
   "cell_type": "code",
   "execution_count": 1,
   "metadata": {},
   "outputs": [
    {
     "name": "stdout",
     "output_type": "stream",
     "text": [
      "INFO: Pandarallel will run on 10 workers.\n",
      "INFO: Pandarallel will use Memory file system to transfer data between the main process and workers.\n"
     ]
    }
   ],
   "source": [
    "import pandas as pd\n",
    "import os\n",
    "from glob import glob\n",
    "import json\n",
    "from pandarallel import pandarallel\n",
    "import re\n",
    "\n",
    "pandarallel.initialize(nb_workers=10, progress_bar=True)"
   ]
  },
  {
   "cell_type": "code",
   "execution_count": 2,
   "metadata": {},
   "outputs": [
    {
     "data": {
      "text/html": [
       "<div>\n",
       "<style scoped>\n",
       "    .dataframe tbody tr th:only-of-type {\n",
       "        vertical-align: middle;\n",
       "    }\n",
       "\n",
       "    .dataframe tbody tr th {\n",
       "        vertical-align: top;\n",
       "    }\n",
       "\n",
       "    .dataframe thead th {\n",
       "        text-align: right;\n",
       "    }\n",
       "</style>\n",
       "<table border=\"1\" class=\"dataframe\">\n",
       "  <thead>\n",
       "    <tr style=\"text-align: right;\">\n",
       "      <th></th>\n",
       "      <th>id</th>\n",
       "      <th>is_deleted</th>\n",
       "      <th>user_id</th>\n",
       "      <th>question_id</th>\n",
       "      <th>question_type</th>\n",
       "      <th>question_content</th>\n",
       "      <th>url</th>\n",
       "      <th>score</th>\n",
       "      <th>fidelity_class</th>\n",
       "      <th>created_at</th>\n",
       "      <th>total_time</th>\n",
       "      <th>word_count</th>\n",
       "    </tr>\n",
       "  </thead>\n",
       "  <tbody>\n",
       "    <tr>\n",
       "      <th>0</th>\n",
       "      <td>5580000</td>\n",
       "      <td>0</td>\n",
       "      <td>52077.0</td>\n",
       "      <td>66902</td>\n",
       "      <td>10</td>\n",
       "      <td>statistics</td>\n",
       "      <td>https://storage.googleapis.com/materials-eleme...</td>\n",
       "      <td>90.00</td>\n",
       "      <td>RELEVANT</td>\n",
       "      <td>2023-09-18 21:17:11</td>\n",
       "      <td>2.63</td>\n",
       "      <td>1.0</td>\n",
       "    </tr>\n",
       "    <tr>\n",
       "      <th>1</th>\n",
       "      <td>5580001</td>\n",
       "      <td>0</td>\n",
       "      <td>88226.0</td>\n",
       "      <td>26144</td>\n",
       "      <td>10</td>\n",
       "      <td>Seat</td>\n",
       "      <td>https://storage.googleapis.com/materials-eleme...</td>\n",
       "      <td>53.00</td>\n",
       "      <td>RELEVANT</td>\n",
       "      <td>2023-09-18 21:17:11</td>\n",
       "      <td>2.45</td>\n",
       "      <td>1.0</td>\n",
       "    </tr>\n",
       "    <tr>\n",
       "      <th>2</th>\n",
       "      <td>5580002</td>\n",
       "      <td>0</td>\n",
       "      <td>63452.0</td>\n",
       "      <td>107048</td>\n",
       "      <td>10</td>\n",
       "      <td>Keep your body in shape</td>\n",
       "      <td>https://storage.googleapis.com/materials-eleme...</td>\n",
       "      <td>67.46</td>\n",
       "      <td>RELEVANT</td>\n",
       "      <td>2023-09-18 21:17:12</td>\n",
       "      <td>3.05</td>\n",
       "      <td>5.0</td>\n",
       "    </tr>\n",
       "    <tr>\n",
       "      <th>3</th>\n",
       "      <td>5580003</td>\n",
       "      <td>0</td>\n",
       "      <td>199169.0</td>\n",
       "      <td>10273</td>\n",
       "      <td>10</td>\n",
       "      <td>Foggy</td>\n",
       "      <td>https://storage.googleapis.com/materials-eleme...</td>\n",
       "      <td>80.00</td>\n",
       "      <td>RELEVANT</td>\n",
       "      <td>2023-09-18 21:17:12</td>\n",
       "      <td>1.86</td>\n",
       "      <td>1.0</td>\n",
       "    </tr>\n",
       "    <tr>\n",
       "      <th>4</th>\n",
       "      <td>5580004</td>\n",
       "      <td>0</td>\n",
       "      <td>237799.0</td>\n",
       "      <td>23683</td>\n",
       "      <td>10</td>\n",
       "      <td>School</td>\n",
       "      <td>https://storage.googleapis.com/materials-eleme...</td>\n",
       "      <td>69.00</td>\n",
       "      <td>RELEVANT</td>\n",
       "      <td>2023-09-18 21:17:13</td>\n",
       "      <td>1.80</td>\n",
       "      <td>1.0</td>\n",
       "    </tr>\n",
       "  </tbody>\n",
       "</table>\n",
       "</div>"
      ],
      "text/plain": [
       "        id  is_deleted   user_id  question_id  question_type  \\\n",
       "0  5580000           0   52077.0        66902             10   \n",
       "1  5580001           0   88226.0        26144             10   \n",
       "2  5580002           0   63452.0       107048             10   \n",
       "3  5580003           0  199169.0        10273             10   \n",
       "4  5580004           0  237799.0        23683             10   \n",
       "\n",
       "          question_content                                                url  \\\n",
       "0               statistics  https://storage.googleapis.com/materials-eleme...   \n",
       "1                     Seat  https://storage.googleapis.com/materials-eleme...   \n",
       "2  Keep your body in shape  https://storage.googleapis.com/materials-eleme...   \n",
       "3                    Foggy  https://storage.googleapis.com/materials-eleme...   \n",
       "4                   School  https://storage.googleapis.com/materials-eleme...   \n",
       "\n",
       "   score fidelity_class           created_at  total_time  word_count  \n",
       "0  90.00       RELEVANT  2023-09-18 21:17:11        2.63         1.0  \n",
       "1  53.00       RELEVANT  2023-09-18 21:17:11        2.45         1.0  \n",
       "2  67.46       RELEVANT  2023-09-18 21:17:12        3.05         5.0  \n",
       "3  80.00       RELEVANT  2023-09-18 21:17:12        1.86         1.0  \n",
       "4  69.00       RELEVANT  2023-09-18 21:17:13        1.80         1.0  "
      ]
     },
     "execution_count": 2,
     "metadata": {},
     "output_type": "execute_result"
    }
   ],
   "source": [
    "audio_dir = \"/data/audio_data/prep_submission_audio/10/\"\n",
    "metadata_path=\"/data/audio_data/pronunciation_scoring_result/info_question_type-10_01082023_18092023.csv\"\n",
    "metadata = pd.read_csv(metadata_path)\n",
    "metadata.dropna(inplace=True)\n",
    "metadata.head()"
   ]
  },
  {
   "cell_type": "code",
   "execution_count": 3,
   "metadata": {},
   "outputs": [],
   "source": [
    "metadata = metadata[metadata.fidelity_class == \"RELEVANT\"]"
   ]
  },
  {
   "cell_type": "code",
   "execution_count": 4,
   "metadata": {},
   "outputs": [
    {
     "data": {
      "application/vnd.jupyter.widget-view+json": {
       "model_id": "25de8f4ac53549c08e4b00c0dc8fad0c",
       "version_major": 2,
       "version_minor": 0
      },
      "text/plain": [
       "VBox(children=(HBox(children=(IntProgress(value=0, description='0.00%', max=176110), Label(value='0 / 176110')…"
      ]
     },
     "metadata": {},
     "output_type": "display_data"
    }
   ],
   "source": [
    "def check_audio_is_exist(audio_id):\n",
    "    abs_path = os.path.join(audio_dir, f'{audio_id}.wav')\n",
    "    if os.path.exists(abs_path):\n",
    "        return True\n",
    "    return False\n",
    "\n",
    "metadata[\"is_exist\"] =  metadata.id.parallel_apply(check_audio_is_exist)\n",
    "metadata = metadata[metadata[\"is_exist\"] == True]"
   ]
  },
  {
   "cell_type": "markdown",
   "metadata": {},
   "source": [
    "### decision visualiz"
   ]
  },
  {
   "cell_type": "code",
   "execution_count": 5,
   "metadata": {},
   "outputs": [
    {
     "data": {
      "application/vnd.jupyter.widget-view+json": {
       "model_id": "ec2b016523a64fe58e713553e4590179",
       "version_major": 2,
       "version_minor": 0
      },
      "text/plain": [
       "VBox(children=(HBox(children=(IntProgress(value=0, description='0.00%', max=176097), Label(value='0 / 176097')…"
      ]
     },
     "metadata": {},
     "output_type": "display_data"
    }
   ],
   "source": [
    "def extract_decision(json_path):\n",
    "    try:\n",
    "        with open(json_path, \"r\") as f:\n",
    "            raw_sample = json.load(f)\n",
    "        if \"api_version\" not in raw_sample:\n",
    "            return None\n",
    "        \n",
    "        assert len(raw_sample[\"utterance\"]) == 1\n",
    "        return raw_sample[\"utterance\"][0][\"decision\"]\n",
    "    except:\n",
    "        return None\n",
    "    \n",
    "json_dir = \"/data/audio_data/pronunciation_scoring_result/marking_data/10\"\n",
    "metadata[\"decision\"] = metadata.id.parallel_apply(lambda x: extract_decision(os.path.join(json_dir, f'{x}.json')))"
   ]
  },
  {
   "cell_type": "code",
   "execution_count": 6,
   "metadata": {},
   "outputs": [
    {
     "data": {
      "application/vnd.jupyter.widget-view+json": {
       "model_id": "fc46ef9e17c24aecbae18f53aa1e3a15",
       "version_major": 2,
       "version_minor": 0
      },
      "text/plain": [
       "VBox(children=(HBox(children=(IntProgress(value=0, description='0.00%', max=176097), Label(value='0 / 176097')…"
      ]
     },
     "metadata": {},
     "output_type": "display_data"
    }
   ],
   "source": [
    "def extract_phone_score(json_path):\n",
    "    try:\n",
    "        with open(json_path, \"r\") as f:\n",
    "            raw_sample = json.load(f)\n",
    "        if \"api_version\" not in raw_sample:\n",
    "            return None\n",
    "        \n",
    "        assert len(raw_sample[\"utterance\"]) == 1\n",
    "        phonemes = []\n",
    "\n",
    "        for word in raw_sample[\"utterance\"][0][\"words\"]:\n",
    "            for phoneme in word[\"phonemes\"]:\n",
    "                phonemes.append(phoneme[\"nativeness_score\"])\n",
    "\n",
    "        return phonemes\n",
    "    except:\n",
    "        return None\n",
    "    \n",
    "json_dir = \"/data/audio_data/pronunciation_scoring_result/marking_data/10\"\n",
    "metadata[\"phone_score\"] = metadata.id.parallel_apply(lambda x: extract_phone_score(os.path.join(json_dir, f'{x}.json')))"
   ]
  },
  {
   "cell_type": "code",
   "execution_count": 8,
   "metadata": {},
   "outputs": [],
   "source": [
    "metadata = metadata.explode(\"phone_score\")"
   ]
  },
  {
   "cell_type": "code",
   "execution_count": 12,
   "metadata": {},
   "outputs": [
    {
     "data": {
      "text/plain": [
       "phone_score\n",
       "100    2127061\n",
       "99     1576252\n",
       "0      1226931\n",
       "98     1225704\n",
       "97      987350\n",
       "        ...   \n",
       "73       15996\n",
       "74       15981\n",
       "71       15734\n",
       "63       15318\n",
       "75       14580\n",
       "Name: count, Length: 101, dtype: int64"
      ]
     },
     "execution_count": 12,
     "metadata": {},
     "output_type": "execute_result"
    }
   ],
   "source": [
    "metadata[metadata[\"decision\"] == \"almost_correct\"].phone_score.value_counts()"
   ]
  },
  {
   "cell_type": "code",
   "execution_count": 13,
   "metadata": {},
   "outputs": [],
   "source": [
    "truncate = metadata[metadata[\"decision\"] == \"almost_correct\"].phone_score.value_counts() < 10000\n",
    "truncate = truncate[truncate==False]"
   ]
  },
  {
   "cell_type": "code",
   "execution_count": 15,
   "metadata": {},
   "outputs": [
    {
     "data": {
      "text/plain": [
       "<Axes: >"
      ]
     },
     "execution_count": 15,
     "metadata": {},
     "output_type": "execute_result"
    },
    {
     "data": {
      "image/png": "[encoded data removed]",
      "text/plain": [
       "<Figure size 640x480 with 1 Axes>"
      ]
     },
     "metadata": {},
     "output_type": "display_data"
    }
   ],
   "source": [
    "metadata[(metadata[\"decision\"] == \"almost_correct\") & (~metadata.score.isin(set(truncate.index.to_list())))].phone_score.hist(bins=100)"
   ]
  },
  {
   "cell_type": "code",
   "execution_count": null,
   "metadata": {},
   "outputs": [],
   "source": [
    "metadata[metadata[\"decision\"] == \"almost_correct\"].score.hist(bins=10000)"
   ]
  },
  {
   "cell_type": "code",
   "execution_count": 18,
   "metadata": {},
   "outputs": [
    {
     "data": {
      "text/plain": [
       "score\n",
       "97.00    178484\n",
       "96.00    171716\n",
       "98.00    163715\n",
       "95.00    155286\n",
       "94.00    134036\n",
       "          ...  \n",
       "99.67         9\n",
       "99.55         8\n",
       "99.80         8\n",
       "99.91         8\n",
       "99.63         6\n",
       "Name: count, Length: 1968, dtype: int64"
      ]
     },
     "execution_count": 18,
     "metadata": {},
     "output_type": "execute_result"
    }
   ],
   "source": [
    "metadata[metadata[\"decision\"] == \"correct\"].score.value_counts()"
   ]
  },
  {
   "cell_type": "code",
   "execution_count": 19,
   "metadata": {},
   "outputs": [],
   "source": [
    "truncate = metadata[metadata[\"decision\"] == \"correct\"].score.value_counts() < 10000\n",
    "truncate = truncate[truncate==False]"
   ]
  },
  {
   "cell_type": "code",
   "execution_count": 20,
   "metadata": {},
   "outputs": [
    {
     "data": {
      "text/plain": [
       "114721"
      ]
     },
     "execution_count": 20,
     "metadata": {},
     "output_type": "execute_result"
    }
   ],
   "source": [
    "metadata[(metadata[\"decision\"] == \"correct\") & (~metadata.score.isin(set(truncate.index.to_list())))].id.nunique()"
   ]
  },
  {
   "cell_type": "code",
   "execution_count": null,
   "metadata": {},
   "outputs": [],
   "source": [
    "print(metadata[metadata[\"decision\"] == \"correct\"].score.value_counts())"
   ]
  },
  {
   "cell_type": "code",
   "execution_count": 24,
   "metadata": {},
   "outputs": [
    {
     "data": {
      "text/plain": [
       "<Axes: >"
      ]
     },
     "execution_count": 24,
     "metadata": {},
     "output_type": "execute_result"
    },
    {
     "data": {
      "image/png": "[encoded data removed]",
      "text/plain": [
       "<Figure size 640x480 with 1 Axes>"
      ]
     },
     "metadata": {},
     "output_type": "display_data"
    }
   ],
   "source": [
    "metadata[metadata[\"decision\"] == \"almost_correct\"].score.hist(bins=1000)"
   ]
  },
  {
   "cell_type": "code",
   "execution_count": 23,
   "metadata": {},
   "outputs": [
    {
     "data": {
      "text/plain": [
       "<Axes: >"
      ]
     },
     "execution_count": 23,
     "metadata": {},
     "output_type": "execute_result"
    },
    {
     "data": {
      "image/png": "[encoded data removed]",
      "text/plain": [
       "<Figure size 640x480 with 1 Axes>"
      ]
     },
     "metadata": {},
     "output_type": "display_data"
    }
   ],
   "source": [
    "metadata[metadata[\"decision\"] == \"correct\"].score.hist(bins=1000)"
   ]
  },
  {
   "cell_type": "code",
   "execution_count": 22,
   "metadata": {},
   "outputs": [
    {
     "data": {
      "text/plain": [
       "<Axes: >"
      ]
     },
     "execution_count": 22,
     "metadata": {},
     "output_type": "execute_result"
    },
    {
     "data": {
      "image/png": "[encoded data removed]",
      "text/plain": [
       "<Figure size 640x480 with 1 Axes>"
      ]
     },
     "metadata": {},
     "output_type": "display_data"
    }
   ],
   "source": [
    "metadata[metadata[\"decision\"] == \"incorrect\"].score.hist(bins=1000)"
   ]
  },
  {
   "cell_type": "code",
   "execution_count": null,
   "metadata": {},
   "outputs": [],
   "source": [
    "metadata.explode(\"phone_score\").phone_score.hist(bins=100)"
   ]
  },
  {
   "cell_type": "code",
   "execution_count": null,
   "metadata": {},
   "outputs": [],
   "source": []
  },
  {
   "cell_type": "code",
   "execution_count": null,
   "metadata": {},
   "outputs": [],
   "source": [
    "metadata[metadata.phone_score < 0]"
   ]
  },
  {
   "cell_type": "code",
   "execution_count": null,
   "metadata": {},
   "outputs": [],
   "source": [
    "metadata.phone_score.hist(bins=100)"
   ]
  },
  {
   "cell_type": "code",
   "execution_count": null,
   "metadata": {},
   "outputs": [],
   "source": [
    "metadata[metadata.phone_score < 90].phone_score.hist(bins=200)"
   ]
  },
  {
   "cell_type": "code",
   "execution_count": 2,
   "metadata": {},
   "outputs": [],
   "source": [
    "import os\n",
    "import numpy as np\n",
    "from glob import glob"
   ]
  },
  {
   "cell_type": "code",
   "execution_count": 5,
   "metadata": {},
   "outputs": [],
   "source": [
    "path = \"tmp/prep/\"\n",
    "n = int(len(glob(f'{path}/*.npy')) / 2)\n",
    "labels, features = [], []\n",
    "for i in range(0, n):\n",
    "    feat_path = os.path.join(path, f'tr_feat_{i}.npy')\n",
    "    feat = np.load(feat_path)\n",
    "\n",
    "    label_path = os.path.join(path, f'tr_label_{i}.npy')\n",
    "    label = np.load(label_path)\n",
    "\n",
    "    labels.append(label)\n",
    "    features.append(feat)"
   ]
  },
  {
   "cell_type": "code",
   "execution_count": 12,
   "metadata": {},
   "outputs": [],
   "source": [
    "features = np.concatenate(features)\n",
    "labels = np.concatenate(labels)"
   ]
  }
 ],
 "metadata": {
  "kernelspec": {
   "display_name": "ps",
   "language": "python",
   "name": "python3"
  },
  "language_info": {
   "codemirror_mode": {
    "name": "ipython",
    "version": 3
   },
   "file_extension": ".py",
   "mimetype": "text/x-python",
   "name": "python",
   "nbconvert_exporter": "python",
   "pygments_lexer": "ipython3",
   "version": "3.8.17"
  },
  "orig_nbformat": 4
 },
 "nbformat": 4,
 "nbformat_minor": 2
}
