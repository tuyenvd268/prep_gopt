{
 "cells": [
  {
   "cell_type": "code",
   "execution_count": 12,
   "metadata": {},
   "outputs": [
    {
     "name": "stdout",
     "output_type": "stream",
     "text": [
      "INFO: Pandarallel will run on 10 workers.\n",
      "INFO: Pandarallel will use Memory file system to transfer data between the main process and workers.\n"
     ]
    }
   ],
   "source": [
    "import pandas as pd\n",
    "import os\n",
    "from glob import glob\n",
    "import json\n",
    "from pandarallel import pandarallel\n",
    "import re\n",
    "\n",
    "pandarallel.initialize(nb_workers=10, progress_bar=True)"
   ]
  },
  {
   "cell_type": "code",
   "execution_count": 13,
   "metadata": {},
   "outputs": [
    {
     "data": {
      "text/html": [
       "<div>\n",
       "<style scoped>\n",
       "    .dataframe tbody tr th:only-of-type {\n",
       "        vertical-align: middle;\n",
       "    }\n",
       "\n",
       "    .dataframe tbody tr th {\n",
       "        vertical-align: top;\n",
       "    }\n",
       "\n",
       "    .dataframe thead th {\n",
       "        text-align: right;\n",
       "    }\n",
       "</style>\n",
       "<table border=\"1\" class=\"dataframe\">\n",
       "  <thead>\n",
       "    <tr style=\"text-align: right;\">\n",
       "      <th></th>\n",
       "      <th>id</th>\n",
       "      <th>is_deleted</th>\n",
       "      <th>user_id</th>\n",
       "      <th>question_id</th>\n",
       "      <th>question_type</th>\n",
       "      <th>question_content</th>\n",
       "      <th>url</th>\n",
       "      <th>score</th>\n",
       "      <th>fidelity_class</th>\n",
       "      <th>created_at</th>\n",
       "      <th>total_time</th>\n",
       "      <th>word_count</th>\n",
       "    </tr>\n",
       "  </thead>\n",
       "  <tbody>\n",
       "    <tr>\n",
       "      <th>0</th>\n",
       "      <td>5580000</td>\n",
       "      <td>0</td>\n",
       "      <td>52077.0</td>\n",
       "      <td>66902</td>\n",
       "      <td>10</td>\n",
       "      <td>statistics</td>\n",
       "      <td>https://storage.googleapis.com/materials-eleme...</td>\n",
       "      <td>90.00</td>\n",
       "      <td>RELEVANT</td>\n",
       "      <td>2023-09-18 21:17:11</td>\n",
       "      <td>2.63</td>\n",
       "      <td>1.0</td>\n",
       "    </tr>\n",
       "    <tr>\n",
       "      <th>1</th>\n",
       "      <td>5580001</td>\n",
       "      <td>0</td>\n",
       "      <td>88226.0</td>\n",
       "      <td>26144</td>\n",
       "      <td>10</td>\n",
       "      <td>Seat</td>\n",
       "      <td>https://storage.googleapis.com/materials-eleme...</td>\n",
       "      <td>53.00</td>\n",
       "      <td>RELEVANT</td>\n",
       "      <td>2023-09-18 21:17:11</td>\n",
       "      <td>2.45</td>\n",
       "      <td>1.0</td>\n",
       "    </tr>\n",
       "    <tr>\n",
       "      <th>2</th>\n",
       "      <td>5580002</td>\n",
       "      <td>0</td>\n",
       "      <td>63452.0</td>\n",
       "      <td>107048</td>\n",
       "      <td>10</td>\n",
       "      <td>Keep your body in shape</td>\n",
       "      <td>https://storage.googleapis.com/materials-eleme...</td>\n",
       "      <td>67.46</td>\n",
       "      <td>RELEVANT</td>\n",
       "      <td>2023-09-18 21:17:12</td>\n",
       "      <td>3.05</td>\n",
       "      <td>5.0</td>\n",
       "    </tr>\n",
       "    <tr>\n",
       "      <th>3</th>\n",
       "      <td>5580003</td>\n",
       "      <td>0</td>\n",
       "      <td>199169.0</td>\n",
       "      <td>10273</td>\n",
       "      <td>10</td>\n",
       "      <td>Foggy</td>\n",
       "      <td>https://storage.googleapis.com/materials-eleme...</td>\n",
       "      <td>80.00</td>\n",
       "      <td>RELEVANT</td>\n",
       "      <td>2023-09-18 21:17:12</td>\n",
       "      <td>1.86</td>\n",
       "      <td>1.0</td>\n",
       "    </tr>\n",
       "    <tr>\n",
       "      <th>4</th>\n",
       "      <td>5580004</td>\n",
       "      <td>0</td>\n",
       "      <td>237799.0</td>\n",
       "      <td>23683</td>\n",
       "      <td>10</td>\n",
       "      <td>School</td>\n",
       "      <td>https://storage.googleapis.com/materials-eleme...</td>\n",
       "      <td>69.00</td>\n",
       "      <td>RELEVANT</td>\n",
       "      <td>2023-09-18 21:17:13</td>\n",
       "      <td>1.80</td>\n",
       "      <td>1.0</td>\n",
       "    </tr>\n",
       "  </tbody>\n",
       "</table>\n",
       "</div>"
      ],
      "text/plain": [
       "        id  is_deleted   user_id  question_id  question_type  \\\n",
       "0  5580000           0   52077.0        66902             10   \n",
       "1  5580001           0   88226.0        26144             10   \n",
       "2  5580002           0   63452.0       107048             10   \n",
       "3  5580003           0  199169.0        10273             10   \n",
       "4  5580004           0  237799.0        23683             10   \n",
       "\n",
       "          question_content                                                url  \\\n",
       "0               statistics  https://storage.googleapis.com/materials-eleme...   \n",
       "1                     Seat  https://storage.googleapis.com/materials-eleme...   \n",
       "2  Keep your body in shape  https://storage.googleapis.com/materials-eleme...   \n",
       "3                    Foggy  https://storage.googleapis.com/materials-eleme...   \n",
       "4                   School  https://storage.googleapis.com/materials-eleme...   \n",
       "\n",
       "   score fidelity_class           created_at  total_time  word_count  \n",
       "0  90.00       RELEVANT  2023-09-18 21:17:11        2.63         1.0  \n",
       "1  53.00       RELEVANT  2023-09-18 21:17:11        2.45         1.0  \n",
       "2  67.46       RELEVANT  2023-09-18 21:17:12        3.05         5.0  \n",
       "3  80.00       RELEVANT  2023-09-18 21:17:12        1.86         1.0  \n",
       "4  69.00       RELEVANT  2023-09-18 21:17:13        1.80         1.0  "
      ]
     },
     "execution_count": 13,
     "metadata": {},
     "output_type": "execute_result"
    }
   ],
   "source": [
    "audio_dir = \"/data/audio_data/prep_submission_audio\"\n",
    "metadata_path=\"/data/audio_data/pronunciation_scoring_result/info_question_type-10_01082023_18092023.csv\"\n",
    "metadata = pd.read_csv(metadata_path)\n",
    "metadata.dropna(inplace=True)\n",
    "metadata.head()"
   ]
  },
  {
   "cell_type": "code",
   "execution_count": 14,
   "metadata": {},
   "outputs": [
    {
     "data": {
      "application/vnd.jupyter.widget-view+json": {
       "model_id": "a54fbc11c2884115a9f82f8c6810fc85",
       "version_major": 2,
       "version_minor": 0
      },
      "text/plain": [
       "VBox(children=(HBox(children=(IntProgress(value=0, description='0.00%', max=200781), Label(value='0 / 200781')…"
      ]
     },
     "metadata": {},
     "output_type": "display_data"
    }
   ],
   "source": [
    "def check_audio_is_exist(audio_id):\n",
    "    abs_path = os.path.join(audio_dir, f'{audio_id}.wav')\n",
    "    if os.path.exists(abs_path):\n",
    "        return True\n",
    "    return False\n",
    "\n",
    "metadata[\"is_exist\"] =  metadata.id.parallel_apply(check_audio_is_exist)"
   ]
  },
  {
   "cell_type": "code",
   "execution_count": 15,
   "metadata": {},
   "outputs": [
    {
     "data": {
      "text/plain": [
       "(2007666, 13)"
      ]
     },
     "execution_count": 15,
     "metadata": {},
     "output_type": "execute_result"
    }
   ],
   "source": [
    "metadata = metadata[metadata[\"is_exist\"] == True]\n",
    "metadata.shape"
   ]
  },
  {
   "cell_type": "code",
   "execution_count": 16,
   "metadata": {},
   "outputs": [],
   "source": [
    "def parse_elsa_data(json_path):\n",
    "    try:\n",
    "        raw_sample = json.load(open(json_path, \"r\", encoding=\"utf-8\"))\n",
    "        raw_sample = json.loads(raw_sample)\n",
    "\n",
    "        if \"api_version\" not in raw_sample:\n",
    "            return None\n",
    "        \n",
    "        assert len(raw_sample[\"utterance\"]) == 1\n",
    "        \n",
    "        utterance = raw_sample[\"utterance\"][0]    \n",
    "        words, phonemes = [], []\n",
    "\n",
    "        for word in utterance[\"words\"]:\n",
    "            words.append([word[\"text\"], word[\"trans_arpabet\"], word[\"nativeness_score\"]])\n",
    "            _phonemes = []\n",
    "            for phoneme in word[\"phonemes\"]:\n",
    "                _phonemes.append([phoneme[\"text\"], phoneme[\"trans_arpabet\"], phoneme[\"nativeness_score\"]])\n",
    "            phonemes.append(_phonemes)\n",
    "                \n",
    "        metadata = {\n",
    "            \"words\": words,\n",
    "            \"phonemes\": phonemes,\n",
    "            \"utterance\": utterance[\"nativeness_score\"]\n",
    "        }\n",
    "\n",
    "        return json.dumps(metadata, ensure_ascii=False)\n",
    "    except:\n",
    "        return None"
   ]
  },
  {
   "cell_type": "code",
   "execution_count": 17,
   "metadata": {},
   "outputs": [
    {
     "data": {
      "application/vnd.jupyter.widget-view+json": {
       "model_id": "b22d7dd31a0a435eacc1b61d304886da",
       "version_major": 2,
       "version_minor": 0
      },
      "text/plain": [
       "VBox(children=(HBox(children=(IntProgress(value=0, description='0.00%', max=200767), Label(value='0 / 200767')…"
      ]
     },
     "metadata": {},
     "output_type": "display_data"
    }
   ],
   "source": [
    "json_dir = \"/data/audio_data/pronunciation_scoring_result/marking_data/10\"\n",
    "metadata[\"score\"] = metadata.id.parallel_apply(lambda x: parse_elsa_data(os.path.join(json_dir, f'{x}.json')))"
   ]
  },
  {
   "cell_type": "code",
   "execution_count": 18,
   "metadata": {},
   "outputs": [
    {
     "name": "stdout",
     "output_type": "stream",
     "text": [
      "(2007666, 13)\n",
      "(2007307, 13)\n"
     ]
    }
   ],
   "source": [
    "print(metadata.shape)\n",
    "metadata = metadata[metadata[\"score\"].notna()]\n",
    "print(metadata.shape)"
   ]
  },
  {
   "cell_type": "code",
   "execution_count": 19,
   "metadata": {},
   "outputs": [
    {
     "data": {
      "application/vnd.jupyter.widget-view+json": {
       "model_id": "bea8b9a9b33742c2ac0299608a84c358",
       "version_major": 2,
       "version_minor": 0
      },
      "text/plain": [
       "VBox(children=(HBox(children=(IntProgress(value=0, description='0.00%', max=200731), Label(value='0 / 200731')…"
      ]
     },
     "metadata": {},
     "output_type": "display_data"
    }
   ],
   "source": [
    "lexicon_path = \"resources/lexicon.txt\"\n",
    "lexicon = {}\n",
    "with open(lexicon_path, \"r\", encoding=\"utf-8\") as f:\n",
    "    lines = f.readlines()\n",
    "    lines = [line.strip().split() for line in lines]\n",
    "    lines = [[line[0], \" \".join(line[1:])] for line in lines]\n",
    "    \n",
    "    for word, phoneme in lines:\n",
    "        lexicon[word] = phoneme\n",
    "        \n",
    "def filter_data(text, words):\n",
    "    words = json.loads(words)[\"words\"]\n",
    "    for word, phoneme in zip(text.upper().split(), words):\n",
    "        if word not in lexicon:\n",
    "            return False\n",
    "        if lexicon[word] != phoneme[1]:\n",
    "            return False\n",
    "        if word.upper() != phoneme[0].upper():\n",
    "            return False\n",
    "    \n",
    "    return True\n",
    "metadata[\"is_selected\"] = metadata.parallel_apply(lambda x: filter_data(x[\"question_content\"], x[\"score\"]), axis=1)\n",
    "metadata = metadata[metadata[\"is_selected\"]==True].reset_index()\n",
    "metadata = metadata[metadata[\"word_count\"]<2]"
   ]
  },
  {
   "cell_type": "code",
   "execution_count": 20,
   "metadata": {},
   "outputs": [],
   "source": [
    "def preprocess_text(text):\n",
    "    text = re.sub(\"[\\,\\.\\;\\:\\!\\?]\", \" \", text)\n",
    "    text = text.upper()\n",
    "    \n",
    "    return text\n",
    "metadata[\"question_content\"] = metadata.question_content.apply(preprocess_text)"
   ]
  },
  {
   "cell_type": "code",
   "execution_count": 21,
   "metadata": {},
   "outputs": [],
   "source": [
    "metadata = metadata[metadata.fidelity_class == \"RELEVANT\"]"
   ]
  },
  {
   "cell_type": "code",
   "execution_count": 22,
   "metadata": {},
   "outputs": [],
   "source": [
    "metadata[[\"user_id\", \"id\", \"question_content\", \"score\"]][0:100000].to_csv(\"/data/codes/prep_gopt/data/processed_data/metadata.csv\")"
   ]
  }
 ],
 "metadata": {
  "kernelspec": {
   "display_name": "ps",
   "language": "python",
   "name": "python3"
  },
  "language_info": {
   "codemirror_mode": {
    "name": "ipython",
    "version": 3
   },
   "file_extension": ".py",
   "mimetype": "text/x-python",
   "name": "python",
   "nbconvert_exporter": "python",
   "pygments_lexer": "ipython3",
   "version": "3.8.17"
  },
  "orig_nbformat": 4
 },
 "nbformat": 4,
 "nbformat_minor": 2
}
